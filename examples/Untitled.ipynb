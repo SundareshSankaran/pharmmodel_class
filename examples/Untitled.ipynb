{
 "cells": [
  {
   "cell_type": "code",
   "execution_count": 8,
   "id": "5cf4e313-b587-4abc-95e5-633cc8993b2b",
   "metadata": {},
   "outputs": [],
   "source": [
    "class PharmMod:\n",
    "    \"\"\"This class helps you initialise & perform operations on a Python class object called PharmMod.\"\"\"\n",
    "    def __init__(self, path = None, name=None, creationTimeStamp=None,  modifiedTimeStamp=None, createdBy=None, modifiedBy=None, dataframes=[], profiles=[]) -> None:\n",
    "        \n",
    "        import datetime\n",
    "\n",
    "        # Initialisation of attributes\n",
    "        self.path = None\n",
    "        self.name = None\n",
    "        self.creationTimeStamp = None\n",
    "        self.modifiedTimeStamp = None\n",
    "        self.createdBy = None\n",
    "        self.modifiedBy = None\n",
    "        self.dataframes = []\n",
    "        self.profiles = []\n",
    "\n",
    "        # Assign attributes based on what's passed\n",
    "        self.path = path if path else self.path\n",
    "        self.name = name if name else self.name\n",
    "        self.creationTimeStamp = creationTimeStamp if creationTimeStamp else datetime.datetime.now()\n",
    "        self.modifiedTimeStamp = modifiedTimeStamp if modifiedTimeStamp else datetime.datetime.now()\n",
    "        self.createdBy = createdBy if createdBy else self.createdBy\n",
    "        self.modifiedBy = modifiedBy if modifiedBy else self.modifiedBy\n",
    "        self.dataframes = dataframes if dataframes else self.dataframes\n",
    "        self.profiles = profiles if profiles else self.profiles\n",
    "\n",
    "    def read_data(self, path=None):\n",
    "        \"\"\"This function reads data from the path provided and returns a pandas dataframe\"\"\"\n",
    "        import pandas as pd\n",
    "        import os\n",
    "        filename, extn = os.path.splitext(self.path)\n",
    "        self.name = filename\n",
    "        if extn == \".xlsx\":\n",
    "            pd = pd.read_excel(self.path)\n",
    "        elif extn == \".csv\":\n",
    "            pd = pd.read_csv(self.path)\n",
    "        elif extn == \".json\":\n",
    "            pd = pd.read_json(self.path)\n",
    "        elif extn == \".txt\":\n",
    "            pd = pd.read_csv(self.path, sep=\"\\t\")\n",
    "        elif extn == \".tab\":\n",
    "            pd = pd.read_csv(self.path, sep=\"\\t\")\n",
    "        else:\n",
    "            print(\"Unsupported file format\")\n",
    "            return None\n",
    "        return pd\n",
    "    \n",
    "       \n",
    " "
   ]
  },
  {
   "cell_type": "code",
   "execution_count": 9,
   "id": "cfae462a-d409-48f0-95bb-2f01c0366560",
   "metadata": {},
   "outputs": [],
   "source": [
    "pm = PharmMod(path=\"test.csv\")"
   ]
  },
  {
   "cell_type": "code",
   "execution_count": 10,
   "id": "674c9db9-d812-4919-b9fa-a688436bd4c6",
   "metadata": {},
   "outputs": [],
   "source": [
    "pd = pm.read_data()"
   ]
  },
  {
   "cell_type": "code",
   "execution_count": 11,
   "id": "544a6206-2b38-4901-8094-8cafc6ba95f6",
   "metadata": {},
   "outputs": [
    {
     "data": {
      "text/html": [
       "<div>\n",
       "<style scoped>\n",
       "    .dataframe tbody tr th:only-of-type {\n",
       "        vertical-align: middle;\n",
       "    }\n",
       "\n",
       "    .dataframe tbody tr th {\n",
       "        vertical-align: top;\n",
       "    }\n",
       "\n",
       "    .dataframe thead th {\n",
       "        text-align: right;\n",
       "    }\n",
       "</style>\n",
       "<table border=\"1\" class=\"dataframe\">\n",
       "  <thead>\n",
       "    <tr style=\"text-align: right;\">\n",
       "      <th></th>\n",
       "      <th>A</th>\n",
       "      <th>B</th>\n",
       "      <th>C</th>\n",
       "      <th>D</th>\n",
       "    </tr>\n",
       "  </thead>\n",
       "  <tbody>\n",
       "    <tr>\n",
       "      <th>0</th>\n",
       "      <td>Cat</td>\n",
       "      <td>1</td>\n",
       "      <td>2</td>\n",
       "      <td>3</td>\n",
       "    </tr>\n",
       "    <tr>\n",
       "      <th>1</th>\n",
       "      <td>Dog</td>\n",
       "      <td>2</td>\n",
       "      <td>3</td>\n",
       "      <td>4</td>\n",
       "    </tr>\n",
       "    <tr>\n",
       "      <th>2</th>\n",
       "      <td>Mouse</td>\n",
       "      <td>3</td>\n",
       "      <td>4</td>\n",
       "      <td>5</td>\n",
       "    </tr>\n",
       "  </tbody>\n",
       "</table>\n",
       "</div>"
      ],
      "text/plain": [
       "       A  B  C  D\n",
       "0    Cat  1  2  3\n",
       "1    Dog  2  3  4\n",
       "2  Mouse  3  4  5"
      ]
     },
     "execution_count": 11,
     "metadata": {},
     "output_type": "execute_result"
    }
   ],
   "source": [
    "pd.head(10)"
   ]
  },
  {
   "cell_type": "code",
   "execution_count": 12,
   "id": "d5f84fa6-075e-47ef-9d15-c5623adc6f98",
   "metadata": {},
   "outputs": [],
   "source": [
    "pm = PharmMod()"
   ]
  },
  {
   "cell_type": "code",
   "execution_count": 13,
   "id": "f0c9e00e-f6fc-4599-8a38-3aaeb6ff56b7",
   "metadata": {},
   "outputs": [
    {
     "ename": "TypeError",
     "evalue": "expected str, bytes or os.PathLike object, not NoneType",
     "output_type": "error",
     "traceback": [
      "\u001b[31m---------------------------------------------------------------------------\u001b[39m",
      "\u001b[31mTypeError\u001b[39m                                 Traceback (most recent call last)",
      "\u001b[36mCell\u001b[39m\u001b[36m \u001b[39m\u001b[32mIn[13]\u001b[39m\u001b[32m, line 1\u001b[39m\n\u001b[32m----> \u001b[39m\u001b[32m1\u001b[39m pd = \u001b[43mpm\u001b[49m\u001b[43m.\u001b[49m\u001b[43mread_data\u001b[49m\u001b[43m(\u001b[49m\u001b[33;43m\"\u001b[39;49m\u001b[33;43mtest.csv\u001b[39;49m\u001b[33;43m\"\u001b[39;49m\u001b[43m)\u001b[49m\n",
      "\u001b[36mCell\u001b[39m\u001b[36m \u001b[39m\u001b[32mIn[8]\u001b[39m\u001b[32m, line 31\u001b[39m, in \u001b[36mPharmMod.read_data\u001b[39m\u001b[34m(self, path)\u001b[39m\n\u001b[32m     29\u001b[39m \u001b[38;5;28;01mimport\u001b[39;00m\u001b[38;5;250m \u001b[39m\u001b[34;01mpandas\u001b[39;00m\u001b[38;5;250m \u001b[39m\u001b[38;5;28;01mas\u001b[39;00m\u001b[38;5;250m \u001b[39m\u001b[34;01mpd\u001b[39;00m\n\u001b[32m     30\u001b[39m \u001b[38;5;28;01mimport\u001b[39;00m\u001b[38;5;250m \u001b[39m\u001b[34;01mos\u001b[39;00m\n\u001b[32m---> \u001b[39m\u001b[32m31\u001b[39m filename, extn = \u001b[43mos\u001b[49m\u001b[43m.\u001b[49m\u001b[43mpath\u001b[49m\u001b[43m.\u001b[49m\u001b[43msplitext\u001b[49m\u001b[43m(\u001b[49m\u001b[38;5;28;43mself\u001b[39;49m\u001b[43m.\u001b[49m\u001b[43mpath\u001b[49m\u001b[43m)\u001b[49m\n\u001b[32m     32\u001b[39m \u001b[38;5;28mself\u001b[39m.name = filename\n\u001b[32m     33\u001b[39m \u001b[38;5;28;01mif\u001b[39;00m extn == \u001b[33m\"\u001b[39m\u001b[33m.xlsx\u001b[39m\u001b[33m\"\u001b[39m:\n",
      "\u001b[36mFile \u001b[39m\u001b[32m~/.pyenv/versions/3.11.10/lib/python3.11/posixpath.py:118\u001b[39m, in \u001b[36msplitext\u001b[39m\u001b[34m(p)\u001b[39m\n\u001b[32m    117\u001b[39m \u001b[38;5;28;01mdef\u001b[39;00m\u001b[38;5;250m \u001b[39m\u001b[34msplitext\u001b[39m(p):\n\u001b[32m--> \u001b[39m\u001b[32m118\u001b[39m     p = os.fspath(p)\n\u001b[32m    119\u001b[39m     \u001b[38;5;28;01mif\u001b[39;00m \u001b[38;5;28misinstance\u001b[39m(p, \u001b[38;5;28mbytes\u001b[39m):\n\u001b[32m    120\u001b[39m         sep = \u001b[33mb\u001b[39m\u001b[33m'\u001b[39m\u001b[33m/\u001b[39m\u001b[33m'\u001b[39m\n",
      "\u001b[31mTypeError\u001b[39m: expected str, bytes or os.PathLike object, not NoneType"
     ]
    }
   ],
   "source": [
    "pd = pm.read_data(\"test.csv\")"
   ]
  },
  {
   "cell_type": "code",
   "execution_count": null,
   "id": "406c5aa1-5150-4c83-ab9b-5b3512e41904",
   "metadata": {},
   "outputs": [],
   "source": []
  }
 ],
 "metadata": {
  "kernelspec": {
   "display_name": "pharmmod",
   "language": "python",
   "name": "pharmmod"
  },
  "language_info": {
   "codemirror_mode": {
    "name": "ipython",
    "version": 3
   },
   "file_extension": ".py",
   "mimetype": "text/x-python",
   "name": "python",
   "nbconvert_exporter": "python",
   "pygments_lexer": "ipython3",
   "version": "3.11.10"
  }
 },
 "nbformat": 4,
 "nbformat_minor": 5
}
